{
 "cells": [
  {
   "cell_type": "code",
   "execution_count": null,
   "id": "2ab006e1",
   "metadata": {},
   "outputs": [],
   "source": [
    "import os, sys, time, gc, random\n",
    "os.environ['CUDA_VISIBLE_DEVICES'] = '0'\n",
    "os.environ['TF_CPP_MIN_LOG_LEVEL'] = '2'\n",
    "import numpy as np\n",
    "import pandas as pd\n",
    "from tqdm import tqdm\n",
    "import tensorflow as tf\n",
    "from tensorflow.keras import backend as K\n",
    "from tensorflow.keras.optimizers import Adam"
   ]
  },
  {
   "cell_type": "code",
   "execution_count": null,
   "id": "270f5f04",
   "metadata": {},
   "outputs": [],
   "source": [
    "import logging\n",
    "tf.get_logger().setLevel(logging.ERROR)\n",
    "gpus = tf.config.experimental.list_physical_devices('GPU')\n",
    "for gpu in gpus:\n",
    "    tf.config.experimental.set_memory_growth(gpu, True)"
   ]
  },
  {
   "cell_type": "code",
   "execution_count": null,
   "id": "589eb8f3",
   "metadata": {},
   "outputs": [],
   "source": [
    "sys.path.append(os.path.abspath(os.path.join('..', 'source')))\n",
    "from LMMNN import LMMNN, seed_everything\n",
    "from metrics import compute_metrics"
   ]
  },
  {
   "cell_type": "code",
   "execution_count": null,
   "id": "2f4f0042",
   "metadata": {},
   "outputs": [],
   "source": [
    "path_data = os.path.abspath('data')\n",
    "path_res  = os.path.abspath('results')\n",
    "metrics = ['RMSP', 'RMD', 'R2']\n",
    "n_folds = 10"
   ]
  },
  {
   "cell_type": "code",
   "execution_count": null,
   "id": "dca6e59e",
   "metadata": {},
   "outputs": [],
   "source": [
    "data_names = ['epilepsy', 'cd4', 'bolus', 'owls', 'fruits']\n",
    "optimizer = 'Adam'\n",
    "learning_rates = [0.01, 0.001]\n",
    "batch_sizes = [32, 16]\n",
    "num_nodes_list = [[8,8], [4,4]]\n",
    "activation = 'leaky_relu'\n",
    "max_epochs = 200\n",
    "patience = 10\n",
    "sig2u_init = 0.8\n",
    "sig2e_init = 0.8"
   ]
  },
  {
   "cell_type": "markdown",
   "id": "8f274f44",
   "metadata": {},
   "source": [
    "### LMMNN"
   ]
  },
  {
   "cell_type": "code",
   "execution_count": null,
   "id": "71011e00",
   "metadata": {},
   "outputs": [],
   "source": [
    "# ---------------------------------\n",
    "model_name = 'LMMNN'\n",
    "# ---------------------------------\n",
    "for learning_rate in learning_rates:\n",
    "    for batch_size in batch_sizes:\n",
    "        for num_nodes in num_nodes_list:\n",
    "            experiment = f'lr{learning_rate}-batch{batch_size}-nodes{num_nodes[0]}'\n",
    "            results = {metric:np.zeros((n_folds, len(data_names))) for metric in metrics+['time']}\n",
    "            for data_number, data_name in enumerate(data_names):\n",
    "                data = pd.read_csv(f'{path_data}/{data_name}-prep.csv', dtype='float32', engine='pyarrow')        \n",
    "                n_clusters = np.unique(data['id']).shape[0]\n",
    "                n_features = 1+max([int(col_name[1:]) if 'x' in col_name else 0 for col_name in data.columns])\n",
    "                for test_fold in tqdm(range(n_folds), desc=data_name):\n",
    "                    valid_fold = (test_fold+1)//n_folds\n",
    "                    data_dict = {\n",
    "                        'train':data[-data['fold'].isin([valid_fold, test_fold])],\n",
    "                        'valid':data[data['fold'] == valid_fold],\n",
    "                        'test' :data[data['fold'] == test_fold],\n",
    "                    }\n",
    "                    for subset_name, subset in data_dict.items():\n",
    "                        z = np.array(subset['id'], dtype=np.int32)\n",
    "                        globals()[f'X_{subset_name}'] = np.array(subset[[f'x{i}' for i in range(n_features)]], dtype=np.float32)\n",
    "                        globals()[f'Z_{subset_name}'] = np.zeros((len(z), n_clusters), dtype=np.float32)\n",
    "                        globals()[f'Z_{subset_name}'][np.arange(len(z)), z] = 1\n",
    "                        globals()[f'y_{subset_name}'] = np.array(subset['y'], dtype=np.float32).reshape(-1,1)\n",
    "                    K.clear_session(); gc.collect()\n",
    "                    seed_everything()\n",
    "                    optimizer = Adam(learning_rate=learning_rate)\n",
    "                    M = LMMNN(n_clusters, n_features, num_nodes, activation)\n",
    "                    start_time = time.time()\n",
    "                    M.train_mlik(\n",
    "                        [X_train, np.log(y_train+0.5), Z_train], [X_valid, np.log(y_valid+0.5), Z_valid], \n",
    "                        optimizer, batch_size, max_epochs, patience, sig2e_init, sig2u_init\n",
    "                    )\n",
    "                    computing_time = time.time() - start_time\n",
    "                    y_pred = M.predict(X_test, Z_test)\n",
    "                    if data_name == 'owls':\n",
    "                        offset_test = np.array(data_dict['test']['offset']).flatten()\n",
    "                        y_pred = y_pred * offset_test\n",
    "                        y_test = y_test * offset_test\n",
    "                        y_train = y_train * np.array(data_dict['train']['offset']).flatten()\n",
    "                    temp_results = compute_metrics(y_test, y_pred, np.mean(y_train), metrics)\n",
    "                    for metric in metrics:\n",
    "                        results[metric][test_fold, data_number] = temp_results[metric]\n",
    "                    results['time'][test_fold, data_number] = computing_time\n",
    "                    del M; gc.collect()\n",
    "            for metric in metrics+['time']:\n",
    "                pd.DataFrame(results[metric], columns=data_names).to_csv(f'{path_res}/{model_name}-{metric}-{experiment}.csv', index=False)"
   ]
  }
 ],
 "metadata": {
  "kernelspec": {
   "display_name": "Python 3 (ipykernel)",
   "language": "python",
   "name": "python3"
  },
  "language_info": {
   "codemirror_mode": {
    "name": "ipython",
    "version": 3
   },
   "file_extension": ".py",
   "mimetype": "text/x-python",
   "name": "python",
   "nbconvert_exporter": "python",
   "pygments_lexer": "ipython3",
   "version": "3.8.10"
  }
 },
 "nbformat": 4,
 "nbformat_minor": 5
}
